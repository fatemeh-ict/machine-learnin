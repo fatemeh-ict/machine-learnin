{
  "nbformat": 4,
  "nbformat_minor": 0,
  "metadata": {
    "colab": {
      "provenance": [],
      "authorship_tag": "ABX9TyOaowceghO7udcppvCJEd49",
      "include_colab_link": true
    },
    "kernelspec": {
      "name": "python3",
      "display_name": "Python 3"
    },
    "language_info": {
      "name": "python"
    }
  },
  "cells": [
    {
      "cell_type": "markdown",
      "metadata": {
        "id": "view-in-github",
        "colab_type": "text"
      },
      "source": [
        "<a href=\"https://colab.research.google.com/github/fatemeh-ict/machine-learnin/blob/main/password_managment.ipynb\" target=\"_parent\"><img src=\"https://colab.research.google.com/assets/colab-badge.svg\" alt=\"Open In Colab\"/></a>"
      ]
    },
    {
      "cell_type": "code",
      "execution_count": 1,
      "metadata": {
        "colab": {
          "base_uri": "https://localhost:8080/"
        },
        "id": "mfdwMhsBX0Q1",
        "outputId": "fd92ad24-1afc-46c3-8637-400c88631844"
      },
      "outputs": [
        {
          "output_type": "stream",
          "name": "stdout",
          "text": [
            "Requirement already satisfied: cryptography in /usr/local/lib/python3.10/dist-packages (43.0.1)\n",
            "Requirement already satisfied: cffi>=1.12 in /usr/local/lib/python3.10/dist-packages (from cryptography) (1.17.1)\n",
            "Requirement already satisfied: pycparser in /usr/local/lib/python3.10/dist-packages (from cffi>=1.12->cryptography) (2.22)\n"
          ]
        }
      ],
      "source": [
        "!pip install cryptography"
      ]
    },
    {
      "cell_type": "code",
      "source": [
        "from cryptography.fernet import Fernet\n",
        "#pass=1234\n",
        "#key=hgfghjdfghjjsfe\n",
        "#key+pass=encrypted password\n",
        "#encrpted password + key=pass\n",
        "\n",
        "def write_key():\n",
        "  key= Fernet.generate_key()\n",
        "  with open(\"./mykey.key\",\"wb\") as f:\n",
        "    f.write(key)\n",
        "\n",
        "write_key()\n",
        "\n",
        "#fernet=Fernet(key)"
      ],
      "metadata": {
        "id": "Dj0rcbQbX-8d"
      },
      "execution_count": 2,
      "outputs": []
    },
    {
      "cell_type": "code",
      "source": [
        "def load_key():\n",
        "  with open(\"./mykey.key\",\"rb\") as f:\n",
        "    return f.read()\n",
        "\n",
        "key=load_key()\n",
        "fernet=Fernet(key)"
      ],
      "metadata": {
        "id": "ZMEk9h2TYH52"
      },
      "execution_count": 3,
      "outputs": []
    },
    {
      "cell_type": "code",
      "source": [
        "def add_pass(username,password):\n",
        "  with open(\"./password1.txt\",\"a\") as f:\n",
        "    #string to byte use encode\n",
        "    encrypted_pass=fernet.encrypt(password.encode()).decode()    #byte\n",
        "    f.write(f\"{username}|{encrypted_pass}\\n\")\n",
        "  print(\"Added\")"
      ],
      "metadata": {
        "id": "DcyCjP3DYLgY"
      },
      "execution_count": 4,
      "outputs": []
    },
    {
      "cell_type": "code",
      "source": [
        "def view_pass():\n",
        "  with open(\"./password1.txt\",\"r\") as f:\n",
        "    for item in f:\n",
        "      item=item.rstrip()\n",
        "      username,encrypted_password=item.split('|')\n",
        "      password=fernet.decrypt(encrypted_password).decode()\n",
        "      print(f\"username:{username}-password:{password}\")"
      ],
      "metadata": {
        "id": "hOiowktMYPtm"
      },
      "execution_count": 5,
      "outputs": []
    },
    {
      "cell_type": "code",
      "source": [
        "while True:\n",
        "  user_input=input('enter the mode (v:view , a:add, q:quit)')\n",
        "\n",
        "  if user_input=='v':\n",
        "    print('your passwords are as follows:')\n",
        "    view_pass()\n",
        "\n",
        "  elif user_input=='a':\n",
        "    print(\"let's add a new username-password\")\n",
        "\n",
        "    username=input('enter new username:')\n",
        "    password=input('enter new password:')\n",
        "\n",
        "    add_pass(username,password)\n",
        "\n",
        "  elif user_input==\"q\":\n",
        "    break\n",
        "\n",
        "  else:\n",
        "    print('wrong mode')"
      ],
      "metadata": {
        "colab": {
          "base_uri": "https://localhost:8080/"
        },
        "id": "s6lxlHjTYTO5",
        "outputId": "8fbcf68c-5691-4a3d-f40a-9c12d37c848c"
      },
      "execution_count": 7,
      "outputs": [
        {
          "name": "stdout",
          "output_type": "stream",
          "text": [
            "enter the mode (v:view , a:add, q:quit)a\n",
            "let's add a new username-password\n",
            "enter new username:sara\n",
            "enter new password:1234\n",
            "Added\n",
            "enter the mode (v:view , a:add, q:quit)a\n",
            "let's add a new username-password\n",
            "enter new username:ffffff\n",
            "enter new password:7474\n",
            "Added\n",
            "enter the mode (v:view , a:add, q:quit)v\n",
            "your passwords are as follows:\n",
            "username:sara-password:1234\n",
            "username:sara-password:1234\n",
            "username:ffffff-password:7474\n",
            "enter the mode (v:view , a:add, q:quit)q\n"
          ]
        }
      ]
    },
    {
      "cell_type": "code",
      "source": [],
      "metadata": {
        "id": "Z6-R7fDlYdp-"
      },
      "execution_count": null,
      "outputs": []
    }
  ]
}