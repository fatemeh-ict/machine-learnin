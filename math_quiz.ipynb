{
  "nbformat": 4,
  "nbformat_minor": 0,
  "metadata": {
    "colab": {
      "provenance": [],
      "authorship_tag": "ABX9TyP7rraQTcyj2PdTd78uI1yW",
      "include_colab_link": true
    },
    "kernelspec": {
      "name": "python3",
      "display_name": "Python 3"
    },
    "language_info": {
      "name": "python"
    }
  },
  "cells": [
    {
      "cell_type": "markdown",
      "metadata": {
        "id": "view-in-github",
        "colab_type": "text"
      },
      "source": [
        "<a href=\"https://colab.research.google.com/github/fatemeh-ict/machine-learnin/blob/main/math_quiz.ipynb\" target=\"_parent\"><img src=\"https://colab.research.google.com/assets/colab-badge.svg\" alt=\"Open In Colab\"/></a>"
      ]
    },
    {
      "cell_type": "code",
      "execution_count": 1,
      "metadata": {
        "id": "L0wVvB88Tv85"
      },
      "outputs": [],
      "source": [
        "import random\n",
        "import time"
      ]
    },
    {
      "cell_type": "code",
      "source": [
        "def question_generator():\n",
        "  #generate two radom number\n",
        "  a=random.randint(1,9)\n",
        "  b=random.randint(1,9)\n",
        "\n",
        "  operator_list=['+','-','*']\n",
        "  selected_operator=random.choice(operator_list)\n",
        "\n",
        "  print(f'{a} {selected_operator} {b} = ?')\n",
        "\n",
        "  if selected_operator=='+':\n",
        "    return a+b\n",
        "\n",
        "  if selected_operator=='-':\n",
        "    return a-b\n",
        "\n",
        "  else:\n",
        "    return a*b"
      ],
      "metadata": {
        "id": "1EK4WneUTzie"
      },
      "execution_count": 2,
      "outputs": []
    },
    {
      "cell_type": "code",
      "source": [
        "question_number_limit=5\n",
        "question_number=0\n",
        "score=0\n",
        "time_limit=5\n",
        "while question_number < question_number_limit:\n",
        "  #step1)generate a random question\n",
        "  result=str(question_generator())     #int\n",
        "  start_time=time.time()\n",
        "  #step2) get user answer\n",
        "  user_answer=input('enter your answer:')    #str\n",
        "  end_time=time.time()\n",
        "\n",
        "  time_dif=end_time - start_time\n",
        "  #step3) check the answer and time\n",
        "  if time_dif < 10:\n",
        "    if result==user_answer:\n",
        "      score+=1\n",
        "      print(f'perfect,score: {score}')\n",
        "    else:\n",
        "      print('Sorry your answer is wrong')\n",
        "  else:\n",
        "    print('you are too late')\n",
        "\n",
        "  question_number+=1\n",
        "\n",
        "print(f'final score: {score} out of {question_number_limit}')"
      ],
      "metadata": {
        "colab": {
          "base_uri": "https://localhost:8080/"
        },
        "id": "X8CPBkmNT6yV",
        "outputId": "3e9ee869-5915-4fe7-dc70-fb19dd5698e9"
      },
      "execution_count": 3,
      "outputs": [
        {
          "output_type": "stream",
          "name": "stdout",
          "text": [
            "3 - 8 = ?\n",
            "enter your answer:-5\n",
            "perfect,score: 1\n",
            "8 + 2 = ?\n",
            "enter your answer:10\n",
            "perfect,score: 2\n",
            "1 * 6 = ?\n",
            "enter your answer:6\n",
            "you are too late\n",
            "7 + 4 = ?\n",
            "enter your answer:11\n",
            "perfect,score: 3\n",
            "5 * 7 = ?\n",
            "enter your answer:35\n",
            "perfect,score: 4\n",
            "final score: 4 out of 5\n"
          ]
        }
      ]
    },
    {
      "cell_type": "code",
      "source": [],
      "metadata": {
        "id": "m-XE031xUBhF"
      },
      "execution_count": null,
      "outputs": []
    }
  ]
}